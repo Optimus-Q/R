{
 "cells": [
  {
   "cell_type": "markdown",
   "metadata": {},
   "source": [
    "\n",
    "\n",
    "contents:\n",
    "(1) Basics of R\n",
    "\n",
    "(2) Basics of vector,list,array,factor,dataframe\n",
    "\n",
    "(3) operators\n",
    "\n",
    "(4) decision making\n",
    "\n",
    "(5) loops\n",
    "\n",
    "(6) functions\n",
    "\n",
    "(7) working with string, bector, list, array, dataframe\n",
    "\n",
    "(8) reading csv file \n",
    "\n",
    "(9) Basic statistics with r(summary)\n",
    "\n",
    "(10) visualization\n",
    "\n"
   ]
  },
  {
   "cell_type": "code",
   "execution_count": 1,
   "metadata": {},
   "outputs": [
    {
     "name": "stdout",
     "output_type": "stream",
     "text": [
      "[1] \"Hello R\"\n"
     ]
    }
   ],
   "source": [
    "#Basics of R\n",
    "\n",
    "print(\"Hello R\")           #first code "
   ]
  },
  {
   "cell_type": "code",
   "execution_count": 2,
   "metadata": {},
   "outputs": [
    {
     "name": "stdout",
     "output_type": "stream",
     "text": [
      "[1] 40\n"
     ]
    }
   ],
   "source": [
    "print(22+18)                #add"
   ]
  },
  {
   "cell_type": "code",
   "execution_count": 3,
   "metadata": {},
   "outputs": [
    {
     "name": "stdout",
     "output_type": "stream",
     "text": [
      "[1] \"Hellow R\"\n"
     ]
    }
   ],
   "source": [
    "myString = \"Hellow R\"      #variables    \n",
    "print(myString)"
   ]
  },
  {
   "cell_type": "code",
   "execution_count": 4,
   "metadata": {},
   "outputs": [
    {
     "name": "stdout",
     "output_type": "stream",
     "text": [
      "[1] \"logical\"\n"
     ]
    }
   ],
   "source": [
    "q = TRUE                 #checking type of variable\n",
    "print(class(q))"
   ]
  },
  {
   "cell_type": "code",
   "execution_count": 5,
   "metadata": {},
   "outputs": [
    {
     "name": "stdout",
     "output_type": "stream",
     "text": [
      "[1] \"numeric\"\n"
     ]
    }
   ],
   "source": [
    "w = 23\n",
    "print(class(w))"
   ]
  },
  {
   "cell_type": "code",
   "execution_count": 6,
   "metadata": {},
   "outputs": [
    {
     "name": "stdout",
     "output_type": "stream",
     "text": [
      "[1] \"numeric\"\n"
     ]
    }
   ],
   "source": [
    "r = 23.8L\n",
    "print(class(r))"
   ]
  },
  {
   "cell_type": "code",
   "execution_count": 7,
   "metadata": {},
   "outputs": [
    {
     "name": "stdout",
     "output_type": "stream",
     "text": [
      "[1] \"integer\"\n"
     ]
    }
   ],
   "source": [
    "t = 2L\n",
    "print(class(t))"
   ]
  },
  {
   "cell_type": "code",
   "execution_count": 8,
   "metadata": {},
   "outputs": [
    {
     "name": "stdout",
     "output_type": "stream",
     "text": [
      "[1] \"character\"\n"
     ]
    }
   ],
   "source": [
    "y = \"Hello\"\n",
    "print(class(y))"
   ]
  },
  {
   "cell_type": "code",
   "execution_count": 9,
   "metadata": {},
   "outputs": [
    {
     "name": "stdout",
     "output_type": "stream",
     "text": [
      "[1] \"red\"    \"green\"  \"orange\"\n",
      "[1] \"character\"\n"
     ]
    }
   ],
   "source": [
    "#Basics of vector,list,array,factor,dataframe,matrix\n",
    "vec = c('red','green','orange')       #vector\n",
    "print(vec)\n",
    "print(class(vec))"
   ]
  },
  {
   "cell_type": "code",
   "execution_count": 10,
   "metadata": {},
   "outputs": [
    {
     "name": "stdout",
     "output_type": "stream",
     "text": [
      "[1] \"red\"   \"2\"     \"45\"    \"hello\"\n",
      "[1] \"character\"\n"
     ]
    }
   ],
   "source": [
    "vec2 = c(\"red\", 2L, 45L, \"hello\")\n",
    "print(vec2)\n",
    "print(class(vec2))"
   ]
  },
  {
   "cell_type": "code",
   "execution_count": 11,
   "metadata": {},
   "outputs": [
    {
     "name": "stdout",
     "output_type": "stream",
     "text": [
      "[[1]]\n",
      "[1] 2 5 6\n",
      "\n",
      "[[2]]\n",
      "[1] 23\n",
      "\n",
      "[[3]]\n",
      "function (x)  .Primitive(\"sin\")\n",
      "\n"
     ]
    }
   ],
   "source": [
    "list1 = list(c(2,5,6), 23, sin)       #list\n",
    "print(list1)"
   ]
  },
  {
   "cell_type": "code",
   "execution_count": 12,
   "metadata": {},
   "outputs": [
    {
     "name": "stdout",
     "output_type": "stream",
     "text": [
      "[[1]]\n",
      "[1] 4\n",
      "\n",
      "[[2]]\n",
      "[1] 5\n",
      "\n",
      "[[3]]\n",
      "[1] 6\n",
      "\n",
      "[[4]]\n",
      "[1] 8\n",
      "\n",
      "[[5]]\n",
      "[1] 9\n",
      "\n",
      "[1] \"list\"\n"
     ]
    }
   ],
   "source": [
    "list2 = list(4,5,6,8,9)\n",
    "print(list2)\n",
    "print(class(list2))"
   ]
  },
  {
   "cell_type": "code",
   "execution_count": 13,
   "metadata": {},
   "outputs": [
    {
     "name": "stdout",
     "output_type": "stream",
     "text": [
      "[[1]]\n",
      "[1] 8\n",
      "\n"
     ]
    }
   ],
   "source": [
    "print(list2[4])   #index starts from 1"
   ]
  },
  {
   "cell_type": "code",
   "execution_count": 14,
   "metadata": {},
   "outputs": [
    {
     "name": "stdout",
     "output_type": "stream",
     "text": [
      "     [,1] [,2] [,3]\n",
      "[1,]    1    2    3\n",
      "[2,]    4    5    6\n",
      "[1] \"matrix\"\n",
      "[1] 6\n"
     ]
    }
   ],
   "source": [
    "mat = matrix(c(1,2,3,4,5,6), nrow = 2, ncol = 3, byrow = TRUE)       #creating matrix\n",
    "print(mat)\n",
    "print(class(mat))\n",
    "print(mat[2,3])                      #second row third column value"
   ]
  },
  {
   "cell_type": "code",
   "execution_count": 15,
   "metadata": {},
   "outputs": [],
   "source": [
    "vector1 = c(5,10,15,20)                           #creating array\n",
    "vector2 = c(25,30,35,40,45,50,55,60)"
   ]
  },
  {
   "cell_type": "code",
   "execution_count": 17,
   "metadata": {},
   "outputs": [
    {
     "name": "stdout",
     "output_type": "stream",
     "text": [
      "     [,1] [,2] [,3] [,4]\n",
      "[1,]    5   25   45    5\n",
      "[2,]   10   30   50   10\n",
      "[3,]   15   35   55   15\n",
      "[4,]   20   40   60   20\n",
      "[1] 25\n"
     ]
    }
   ],
   "source": [
    "vec_final = array(c(vector1, vector2), dim = c(4,4))\n",
    "print(vec_final)\n",
    "print(vec_final[1,2])"
   ]
  },
  {
   "cell_type": "code",
   "execution_count": 62,
   "metadata": {},
   "outputs": [
    {
     "name": "stdout",
     "output_type": "stream",
     "text": [
      "[1] green  red    orange yellow green  red   \n",
      "Levels: green orange red yellow\n",
      "[1] 4\n",
      "[1] \"green\"  \"red\"    \"orange\" \"yellow\" \"green\"  \"red\"   \n",
      "[1] \"character\"\n"
     ]
    }
   ],
   "source": [
    "apple_color = c(\"green\", \"red\", \"orange\", \"yellow\", \"green\", \"red\")        #factor\n",
    "factor_apple = factor(apple_color)\n",
    "print(factor_apple)\n",
    "print(nlevels(factor_apple))\n",
    "print(apple_color)\n",
    "print(class(apple_color))"
   ]
  },
  {
   "cell_type": "code",
   "execution_count": 65,
   "metadata": {},
   "outputs": [
    {
     "name": "stdout",
     "output_type": "stream",
     "text": [
      "[1] 1 2 3 4 1 2\n",
      "[1] 1 2 3 4 1 2\n",
      "Levels: 1 2 3 4\n",
      "[1] \"factor\"\n"
     ]
    }
   ],
   "source": [
    "num = c(1,2,3,4,1,2)\n",
    "factor_num = factor(num)\n",
    "print(num)\n",
    "print(factor_num)\n",
    "print(class(factor_num))"
   ]
  },
  {
   "cell_type": "code",
   "execution_count": 14,
   "metadata": {},
   "outputs": [],
   "source": [
    "data = data.frame(gender = c(\"male\",\"female\", \"male\"),age = c(25,35,45),weight = c(80,100,150))   #create dataframe"
   ]
  },
  {
   "cell_type": "code",
   "execution_count": 15,
   "metadata": {},
   "outputs": [
    {
     "name": "stdout",
     "output_type": "stream",
     "text": [
      "  gender age weight\n",
      "1   male  25     80\n",
      "2 female  35    100\n",
      "3   male  45    150\n"
     ]
    }
   ],
   "source": [
    "print(data)"
   ]
  },
  {
   "cell_type": "code",
   "execution_count": 17,
   "metadata": {},
   "outputs": [
    {
     "name": "stdout",
     "output_type": "stream",
     "text": [
      "  age\n",
      "1  25\n",
      "2  35\n",
      "3  45\n"
     ]
    }
   ],
   "source": [
    "print(data['age'])             #extract dataframe"
   ]
  },
  {
   "cell_type": "code",
   "execution_count": 18,
   "metadata": {},
   "outputs": [
    {
     "data": {
      "text/html": [
       "<style>\n",
       ".list-inline {list-style: none; margin:0; padding: 0}\n",
       ".list-inline>li {display: inline-block}\n",
       ".list-inline>li:not(:last-child)::after {content: \"\\00b7\"; padding: 0 .5ex}\n",
       "</style>\n",
       "<ol class=list-inline><li>'data'</li><li>'list2'</li><li>'myString'</li><li>'q'</li><li>'vec'</li><li>'vec_final'</li><li>'vector1'</li><li>'vector2'</li></ol>\n"
      ],
      "text/latex": [
       "\\begin{enumerate*}\n",
       "\\item 'data'\n",
       "\\item 'list2'\n",
       "\\item 'myString'\n",
       "\\item 'q'\n",
       "\\item 'vec'\n",
       "\\item 'vec\\_final'\n",
       "\\item 'vector1'\n",
       "\\item 'vector2'\n",
       "\\end{enumerate*}\n"
      ],
      "text/markdown": [
       "1. 'data'\n",
       "2. 'list2'\n",
       "3. 'myString'\n",
       "4. 'q'\n",
       "5. 'vec'\n",
       "6. 'vec_final'\n",
       "7. 'vector1'\n",
       "8. 'vector2'\n",
       "\n",
       "\n"
      ],
      "text/plain": [
       "[1] \"data\"      \"list2\"     \"myString\"  \"q\"         \"vec\"       \"vec_final\"\n",
       "[7] \"vector1\"   \"vector2\"  "
      ]
     },
     "metadata": {},
     "output_type": "display_data"
    }
   ],
   "source": [
    "ls()"
   ]
  },
  {
   "cell_type": "code",
   "execution_count": 21,
   "metadata": {},
   "outputs": [],
   "source": [
    ".var2 = TRUE             #hidden variable"
   ]
  },
  {
   "cell_type": "code",
   "execution_count": 22,
   "metadata": {},
   "outputs": [
    {
     "data": {
      "text/html": [
       "<style>\n",
       ".list-inline {list-style: none; margin:0; padding: 0}\n",
       ".list-inline>li {display: inline-block}\n",
       ".list-inline>li:not(:last-child)::after {content: \"\\00b7\"; padding: 0 .5ex}\n",
       "</style>\n",
       "<ol class=list-inline><li>'data'</li><li>'list2'</li><li>'myString'</li><li>'q'</li><li>'var.2'</li><li>'vec'</li><li>'vec_final'</li><li>'vector1'</li><li>'vector2'</li></ol>\n"
      ],
      "text/latex": [
       "\\begin{enumerate*}\n",
       "\\item 'data'\n",
       "\\item 'list2'\n",
       "\\item 'myString'\n",
       "\\item 'q'\n",
       "\\item 'var.2'\n",
       "\\item 'vec'\n",
       "\\item 'vec\\_final'\n",
       "\\item 'vector1'\n",
       "\\item 'vector2'\n",
       "\\end{enumerate*}\n"
      ],
      "text/markdown": [
       "1. 'data'\n",
       "2. 'list2'\n",
       "3. 'myString'\n",
       "4. 'q'\n",
       "5. 'var.2'\n",
       "6. 'vec'\n",
       "7. 'vec_final'\n",
       "8. 'vector1'\n",
       "9. 'vector2'\n",
       "\n",
       "\n"
      ],
      "text/plain": [
       "[1] \"data\"      \"list2\"     \"myString\"  \"q\"         \"var.2\"     \"vec\"      \n",
       "[7] \"vec_final\" \"vector1\"   \"vector2\"  "
      ]
     },
     "metadata": {},
     "output_type": "display_data"
    }
   ],
   "source": [
    "ls()"
   ]
  },
  {
   "cell_type": "code",
   "execution_count": 28,
   "metadata": {},
   "outputs": [
    {
     "name": "stdout",
     "output_type": "stream",
     "text": [
      "[1] 6 8 7 9\n",
      "[1] 2 2 5 5\n",
      "[1]  8 15  6 14\n",
      "[1] 2.000000 1.666667 6.000000 3.500000\n"
     ]
    }
   ],
   "source": [
    "#arithmatic operation\n",
    "\n",
    "v  = c(4,5,6,7)\n",
    "u = c(2,3,1,2)\n",
    "print(v+u)\n",
    "print(v-u)\n",
    "print(v*u)\n",
    "print(v/u)"
   ]
  },
  {
   "cell_type": "code",
   "execution_count": 27,
   "metadata": {},
   "outputs": [
    {
     "name": "stdout",
     "output_type": "stream",
     "text": [
      "[1] 90\n"
     ]
    }
   ],
   "source": [
    "print(45+45)"
   ]
  },
  {
   "cell_type": "code",
   "execution_count": 35,
   "metadata": {},
   "outputs": [
    {
     "name": "stdout",
     "output_type": "stream",
     "text": [
      "[1] FALSE\n",
      "[1] TRUE\n",
      "[1] TRUE\n",
      "[1] TRUE\n",
      "[1] FALSE\n",
      "[1] TRUE\n"
     ]
    }
   ],
   "source": [
    "#relational operations...\n",
    "\n",
    "g = 45\n",
    "h = 48\n",
    "print(g > h)\n",
    "print(g < h)\n",
    "print(g == g)\n",
    "print(g <= h)\n",
    "print(g >= h)\n",
    "print(g!=h)"
   ]
  },
  {
   "cell_type": "code",
   "execution_count": 39,
   "metadata": {},
   "outputs": [
    {
     "name": "stdout",
     "output_type": "stream",
     "text": [
      "[1] FALSE\n",
      "[1] TRUE\n",
      "[1] TRUE\n"
     ]
    }
   ],
   "source": [
    "#logical operations\n",
    "\n",
    "s = TRUE\n",
    "d = FALSE\n",
    "t = TRUE\n",
    "print(s&d)\n",
    "print(s&s)\n",
    "print(s|d)"
   ]
  },
  {
   "cell_type": "code",
   "execution_count": 18,
   "metadata": {},
   "outputs": [
    {
     "name": "stdout",
     "output_type": "stream",
     "text": [
      "[1] \"no\"\n"
     ]
    }
   ],
   "source": [
    "#decision making\n",
    "\n",
    "qw = 45\n",
    "we = 84\n",
    "\n",
    "\n",
    "if(qw > we){\n",
    "    print(\"yes\")   \n",
    "}\n",
    "if(qw < we){\n",
    "    print(\"no\")\n",
    "}"
   ]
  },
  {
   "cell_type": "code",
   "execution_count": 19,
   "metadata": {},
   "outputs": [
    {
     "name": "stdout",
     "output_type": "stream",
     "text": [
      "[1] \"no\"\n"
     ]
    }
   ],
   "source": [
    "rs = 87\n",
    "\n",
    "if(qw > we){\n",
    "    print(\"yes\")\n",
    "}else{\n",
    "    print(\"no\")\n",
    "}"
   ]
  },
  {
   "cell_type": "code",
   "execution_count": 43,
   "metadata": {},
   "outputs": [
    {
     "name": "stdout",
     "output_type": "stream",
     "text": [
      "[1] \"yes\"\n"
     ]
    }
   ],
   "source": [
    "if(qw < we){\n",
    "    print(\"yes\")\n",
    "}else if(qw< rs){\n",
    "    print(\"no\")\n",
    "}"
   ]
  },
  {
   "cell_type": "code",
   "execution_count": 44,
   "metadata": {},
   "outputs": [
    {
     "name": "stdout",
     "output_type": "stream",
     "text": [
      "[1] 1\n",
      "[1] 2\n",
      "[1] 3\n",
      "[1] 4\n",
      "[1] 5\n",
      "[1] 6\n"
     ]
    }
   ],
   "source": [
    "#loops\n",
    "i = 0\n",
    "repeat{\n",
    "    i = i+1\n",
    "    print(i)\n",
    "    if( i > 5){\n",
    "        break\n",
    "    }\n",
    "    \n",
    "}"
   ]
  },
  {
   "cell_type": "code",
   "execution_count": 45,
   "metadata": {},
   "outputs": [
    {
     "name": "stdout",
     "output_type": "stream",
     "text": [
      "[1] 1\n",
      "[1] 2\n",
      "[1] 3\n",
      "[1] 4\n",
      "[1] 5\n",
      "[1] 6\n",
      "[1] 7\n"
     ]
    }
   ],
   "source": [
    "j = 0\n",
    "while( j < 7){\n",
    "    j = j +1 \n",
    "    print(j)\n",
    "}"
   ]
  },
  {
   "cell_type": "code",
   "execution_count": 46,
   "metadata": {},
   "outputs": [
    {
     "name": "stdout",
     "output_type": "stream",
     "text": [
      "[1] 4\n",
      "[1] 7\n",
      "[1] 8\n",
      "[1] 9\n"
     ]
    }
   ],
   "source": [
    "vec = c(4,7,8,9)\n",
    "for (k in vec){\n",
    "    print(k)\n",
    "}"
   ]
  },
  {
   "cell_type": "code",
   "execution_count": 49,
   "metadata": {},
   "outputs": [
    {
     "data": {
      "text/html": [
       "9"
      ],
      "text/latex": [
       "9"
      ],
      "text/markdown": [
       "9"
      ],
      "text/plain": [
       "[1] 9"
      ]
     },
     "metadata": {},
     "output_type": "display_data"
    }
   ],
   "source": [
    "#functions with different types of arguemet method\n",
    "\n",
    "addition<-function(x,y){\n",
    "    r = x + y\n",
    "    return(r)\n",
    "}\n",
    "\n",
    "addition(4,5)"
   ]
  },
  {
   "cell_type": "code",
   "execution_count": 50,
   "metadata": {},
   "outputs": [
    {
     "name": "stdout",
     "output_type": "stream",
     "text": [
      "[1] \"hello\"\n"
     ]
    }
   ],
   "source": [
    "sub<-function(){\n",
    "    print(\"hello\")\n",
    "}\n",
    "sub()"
   ]
  },
  {
   "cell_type": "code",
   "execution_count": 51,
   "metadata": {},
   "outputs": [
    {
     "data": {
      "text/html": [
       "24"
      ],
      "text/latex": [
       "24"
      ],
      "text/markdown": [
       "24"
      ],
      "text/plain": [
       "[1] 24"
      ]
     },
     "metadata": {},
     "output_type": "display_data"
    }
   ],
   "source": [
    "mult<-function(x=3, y=8){\n",
    "    rr = x*y\n",
    "    return(rr)\n",
    "}\n",
    "mult()"
   ]
  },
  {
   "cell_type": "code",
   "execution_count": 52,
   "metadata": {},
   "outputs": [
    {
     "data": {
      "text/html": [
       "9"
      ],
      "text/latex": [
       "9"
      ],
      "text/markdown": [
       "9"
      ],
      "text/plain": [
       "[1] 9"
      ]
     },
     "metadata": {},
     "output_type": "display_data"
    }
   ],
   "source": [
    "fac<-function(a,b){\n",
    "    ss = a+b\n",
    "    return(ss)\n",
    "}\n",
    "\n",
    "fac(4,5)"
   ]
  },
  {
   "cell_type": "code",
   "execution_count": 2,
   "metadata": {},
   "outputs": [
    {
     "name": "stdout",
     "output_type": "stream",
     "text": [
      "[1] \"Hello How are you\"\n",
      "[1] \"Hello-How are you\"\n"
     ]
    }
   ],
   "source": [
    "#working with strings\n",
    "\n",
    "a = \"Hello\"\n",
    "b = \"How are you\"\n",
    "print(paste(a,b))\n",
    "print(paste(a,b, sep = \"-\")) #adding - between a and b\n"
   ]
  },
  {
   "cell_type": "code",
   "execution_count": 7,
   "metadata": {},
   "outputs": [
    {
     "name": "stdout",
     "output_type": "stream",
     "text": [
      "[1] \"23.1234568\"\n",
      "[1] \"45.00000\"\n",
      "[1] \"2.312346e+01\"\n"
     ]
    }
   ],
   "source": [
    "results = 23.123456789123\n",
    "print((format(results, digits = 9)))\n",
    "\n",
    "value = 45\n",
    "print(format(value, nsmall = 5))\n",
    "\n",
    "print(format(results, scientific = TRUE))"
   ]
  },
  {
   "cell_type": "code",
   "execution_count": 14,
   "metadata": {},
   "outputs": [
    {
     "data": {
      "text/html": [
       "5"
      ],
      "text/latex": [
       "5"
      ],
      "text/markdown": [
       "5"
      ],
      "text/plain": [
       "[1] 5"
      ]
     },
     "metadata": {},
     "output_type": "display_data"
    },
    {
     "data": {
      "text/html": [
       "'hello'"
      ],
      "text/latex": [
       "'hello'"
      ],
      "text/markdown": [
       "'hello'"
      ],
      "text/plain": [
       "[1] \"hello\""
      ]
     },
     "metadata": {},
     "output_type": "display_data"
    },
    {
     "data": {
      "text/html": [
       "'HELLO'"
      ],
      "text/latex": [
       "'HELLO'"
      ],
      "text/markdown": [
       "'HELLO'"
      ],
      "text/plain": [
       "[1] \"HELLO\""
      ]
     },
     "metadata": {},
     "output_type": "display_data"
    }
   ],
   "source": [
    "char = \"HELLO\"\n",
    "char_l = \"hello\"\n",
    "nchar(char)\n",
    "tolower(char)\n",
    "toupper(char_l)"
   ]
  },
  {
   "cell_type": "code",
   "execution_count": 17,
   "metadata": {},
   "outputs": [
    {
     "data": {
      "text/html": [
       "'LLO'"
      ],
      "text/latex": [
       "'LLO'"
      ],
      "text/markdown": [
       "'LLO'"
      ],
      "text/plain": [
       "[1] \"LLO\""
      ]
     },
     "metadata": {},
     "output_type": "display_data"
    }
   ],
   "source": [
    "substring(char, 3,5)"
   ]
  },
  {
   "cell_type": "code",
   "execution_count": 18,
   "metadata": {},
   "outputs": [
    {
     "name": "stdout",
     "output_type": "stream",
     "text": [
      "[1] \"hello\"\n"
     ]
    }
   ],
   "source": [
    "#working with vectors\n",
    "print(\"hello\")"
   ]
  },
  {
   "cell_type": "code",
   "execution_count": 19,
   "metadata": {},
   "outputs": [
    {
     "name": "stdout",
     "output_type": "stream",
     "text": [
      "[1]  5  6  7  8  9 10\n"
     ]
    }
   ],
   "source": [
    "print(5:10)"
   ]
  },
  {
   "cell_type": "code",
   "execution_count": 20,
   "metadata": {},
   "outputs": [
    {
     "name": "stdout",
     "output_type": "stream",
     "text": [
      "[1] 5.0 5.2 5.4 5.6 5.8 6.0\n"
     ]
    }
   ],
   "source": [
    "print(seq(5, 6, by= 0.2))"
   ]
  },
  {
   "cell_type": "code",
   "execution_count": 23,
   "metadata": {},
   "outputs": [
    {
     "name": "stdout",
     "output_type": "stream",
     "text": [
      "[1] \"may\"  \"june\" \"july\"\n"
     ]
    }
   ],
   "source": [
    "dd = c(\"april\", \"may\", \"june\", \"july\", \"august\")\n",
    "print(dd[2:4])"
   ]
  },
  {
   "cell_type": "code",
   "execution_count": 24,
   "metadata": {},
   "outputs": [
    {
     "name": "stdout",
     "output_type": "stream",
     "text": [
      "[1] 1 2 5 6 7 8 9\n"
     ]
    }
   ],
   "source": [
    "ee = c(7,8,9,5,6,2,1)\n",
    "print(sort(ee))"
   ]
  },
  {
   "cell_type": "code",
   "execution_count": 25,
   "metadata": {},
   "outputs": [
    {
     "name": "stdout",
     "output_type": "stream",
     "text": [
      "[[1]]\n",
      "[1] 1\n",
      "\n",
      "[[2]]\n",
      "[1] 23\n",
      "\n",
      "[[3]]\n",
      "[1] 4 5 6\n",
      "\n",
      "[[4]]\n",
      "[1] \"hello\"\n",
      "\n",
      "[[5]]\n",
      "[1] \"how are you\"\n",
      "\n"
     ]
    }
   ],
   "source": [
    "#working with lists\n",
    "lt = list(1,23,c(4,5,6),\"hello\", \"how are you\")\n",
    "print(lt)"
   ]
  },
  {
   "cell_type": "code",
   "execution_count": 27,
   "metadata": {},
   "outputs": [
    {
     "name": "stdout",
     "output_type": "stream",
     "text": [
      "[[1]]\n",
      "[1] 1\n",
      "\n",
      "[[1]]\n",
      "[1] 4 5 6\n",
      "\n"
     ]
    }
   ],
   "source": [
    "print(lt[1])\n",
    "print(lt[3])"
   ]
  },
  {
   "cell_type": "code",
   "execution_count": 28,
   "metadata": {},
   "outputs": [
    {
     "name": "stdout",
     "output_type": "stream",
     "text": [
      "[[1]]\n",
      "[1] \"how are you\"\n",
      "\n"
     ]
    }
   ],
   "source": [
    "print(lt[5])"
   ]
  },
  {
   "cell_type": "code",
   "execution_count": 30,
   "metadata": {},
   "outputs": [
    {
     "name": "stdout",
     "output_type": "stream",
     "text": [
      "[[1]]\n",
      "[1] 6\n",
      "\n",
      "[[2]]\n",
      "[1] 7\n",
      "\n",
      "[[3]]\n",
      "[1] 8\n",
      "\n",
      "[[4]]\n",
      "[1] 1\n",
      "\n",
      "[[5]]\n",
      "[1] 2\n",
      "\n",
      "[[6]]\n",
      "[1] 3\n",
      "\n"
     ]
    }
   ],
   "source": [
    "y = list(6,7,8)\n",
    "z = list(1,2,3)\n",
    "x = c(y,z)\n",
    "print(x)"
   ]
  },
  {
   "cell_type": "code",
   "execution_count": 4,
   "metadata": {},
   "outputs": [
    {
     "data": {
      "text/html": [
       "<table>\n",
       "<caption>A matrix: 2 × 3 of type int</caption>\n",
       "<tbody>\n",
       "\t<tr><td>4</td><td>6</td><td>8</td></tr>\n",
       "\t<tr><td>5</td><td>7</td><td>9</td></tr>\n",
       "</tbody>\n",
       "</table>\n"
      ],
      "text/latex": [
       "A matrix: 2 × 3 of type int\n",
       "\\begin{tabular}{lll}\n",
       "\t 4 & 6 & 8\\\\\n",
       "\t 5 & 7 & 9\\\\\n",
       "\\end{tabular}\n"
      ],
      "text/markdown": [
       "\n",
       "A matrix: 2 × 3 of type int\n",
       "\n",
       "| 4 | 6 | 8 |\n",
       "| 5 | 7 | 9 |\n",
       "\n"
      ],
      "text/plain": [
       "     [,1] [,2] [,3]\n",
       "[1,] 4    6    8   \n",
       "[2,] 5    7    9   "
      ]
     },
     "metadata": {},
     "output_type": "display_data"
    }
   ],
   "source": [
    "#working with marices\n",
    "\n",
    "mat = matrix(c(4:9), nrow = 2, ncol = 3)\n",
    "mat"
   ]
  },
  {
   "cell_type": "code",
   "execution_count": 5,
   "metadata": {},
   "outputs": [
    {
     "data": {
      "text/html": [
       "8"
      ],
      "text/latex": [
       "8"
      ],
      "text/markdown": [
       "8"
      ],
      "text/plain": [
       "[1] 8"
      ]
     },
     "metadata": {},
     "output_type": "display_data"
    }
   ],
   "source": [
    "mat[1,3]"
   ]
  },
  {
   "cell_type": "code",
   "execution_count": 6,
   "metadata": {},
   "outputs": [
    {
     "data": {
      "text/html": [
       "7"
      ],
      "text/latex": [
       "7"
      ],
      "text/markdown": [
       "7"
      ],
      "text/plain": [
       "[1] 7"
      ]
     },
     "metadata": {},
     "output_type": "display_data"
    }
   ],
   "source": [
    "mat[2,2]"
   ]
  },
  {
   "cell_type": "code",
   "execution_count": 7,
   "metadata": {},
   "outputs": [
    {
     "data": {
      "text/html": [
       "<table>\n",
       "<caption>A matrix: 2 × 3 of type int</caption>\n",
       "<tbody>\n",
       "\t<tr><td>6</td><td>8</td><td>10</td></tr>\n",
       "\t<tr><td>7</td><td>9</td><td>11</td></tr>\n",
       "</tbody>\n",
       "</table>\n"
      ],
      "text/latex": [
       "A matrix: 2 × 3 of type int\n",
       "\\begin{tabular}{lll}\n",
       "\t 6 & 8 & 10\\\\\n",
       "\t 7 & 9 & 11\\\\\n",
       "\\end{tabular}\n"
      ],
      "text/markdown": [
       "\n",
       "A matrix: 2 × 3 of type int\n",
       "\n",
       "| 6 | 8 | 10 |\n",
       "| 7 | 9 | 11 |\n",
       "\n"
      ],
      "text/plain": [
       "     [,1] [,2] [,3]\n",
       "[1,] 6    8    10  \n",
       "[2,] 7    9    11  "
      ]
     },
     "metadata": {},
     "output_type": "display_data"
    }
   ],
   "source": [
    "mat2 = matrix(c(6:11), nrow = 2, ncol = 3)\n",
    "mat2"
   ]
  },
  {
   "cell_type": "code",
   "execution_count": 8,
   "metadata": {},
   "outputs": [
    {
     "data": {
      "text/html": [
       "<table>\n",
       "<caption>A matrix: 2 × 3 of type int</caption>\n",
       "<tbody>\n",
       "\t<tr><td>10</td><td>14</td><td>18</td></tr>\n",
       "\t<tr><td>12</td><td>16</td><td>20</td></tr>\n",
       "</tbody>\n",
       "</table>\n"
      ],
      "text/latex": [
       "A matrix: 2 × 3 of type int\n",
       "\\begin{tabular}{lll}\n",
       "\t 10 & 14 & 18\\\\\n",
       "\t 12 & 16 & 20\\\\\n",
       "\\end{tabular}\n"
      ],
      "text/markdown": [
       "\n",
       "A matrix: 2 × 3 of type int\n",
       "\n",
       "| 10 | 14 | 18 |\n",
       "| 12 | 16 | 20 |\n",
       "\n"
      ],
      "text/plain": [
       "     [,1] [,2] [,3]\n",
       "[1,] 10   14   18  \n",
       "[2,] 12   16   20  "
      ]
     },
     "metadata": {},
     "output_type": "display_data"
    }
   ],
   "source": [
    "mat+mat2"
   ]
  },
  {
   "cell_type": "code",
   "execution_count": 10,
   "metadata": {},
   "outputs": [],
   "source": [
    "#working with dataframe\n",
    "\n",
    "emp.data = data.frame(emp_id = c(1:5), emp_name = c(\"Roy\",\"Rox\",\"Roz\",\"Roa\",\"Rob\"), emp_age = c(20,30,40,50,60), salary = c(1000,2000,3000,4000,5000))"
   ]
  },
  {
   "cell_type": "code",
   "execution_count": 11,
   "metadata": {},
   "outputs": [
    {
     "data": {
      "text/html": [
       "<table>\n",
       "<caption>A data.frame: 5 × 4</caption>\n",
       "<thead>\n",
       "\t<tr><th scope=col>emp_id</th><th scope=col>emp_name</th><th scope=col>emp_age</th><th scope=col>salary</th></tr>\n",
       "\t<tr><th scope=col>&lt;int&gt;</th><th scope=col>&lt;fct&gt;</th><th scope=col>&lt;dbl&gt;</th><th scope=col>&lt;dbl&gt;</th></tr>\n",
       "</thead>\n",
       "<tbody>\n",
       "\t<tr><td>1</td><td>Roy</td><td>20</td><td>1000</td></tr>\n",
       "\t<tr><td>2</td><td>Rox</td><td>30</td><td>2000</td></tr>\n",
       "\t<tr><td>3</td><td>Roz</td><td>40</td><td>3000</td></tr>\n",
       "\t<tr><td>4</td><td>Roa</td><td>50</td><td>4000</td></tr>\n",
       "\t<tr><td>5</td><td>Rob</td><td>60</td><td>5000</td></tr>\n",
       "</tbody>\n",
       "</table>\n"
      ],
      "text/latex": [
       "A data.frame: 5 × 4\n",
       "\\begin{tabular}{llll}\n",
       " emp\\_id & emp\\_name & emp\\_age & salary\\\\\n",
       " <int> & <fct> & <dbl> & <dbl>\\\\\n",
       "\\hline\n",
       "\t 1 & Roy & 20 & 1000\\\\\n",
       "\t 2 & Rox & 30 & 2000\\\\\n",
       "\t 3 & Roz & 40 & 3000\\\\\n",
       "\t 4 & Roa & 50 & 4000\\\\\n",
       "\t 5 & Rob & 60 & 5000\\\\\n",
       "\\end{tabular}\n"
      ],
      "text/markdown": [
       "\n",
       "A data.frame: 5 × 4\n",
       "\n",
       "| emp_id &lt;int&gt; | emp_name &lt;fct&gt; | emp_age &lt;dbl&gt; | salary &lt;dbl&gt; |\n",
       "|---|---|---|---|\n",
       "| 1 | Roy | 20 | 1000 |\n",
       "| 2 | Rox | 30 | 2000 |\n",
       "| 3 | Roz | 40 | 3000 |\n",
       "| 4 | Roa | 50 | 4000 |\n",
       "| 5 | Rob | 60 | 5000 |\n",
       "\n"
      ],
      "text/plain": [
       "  emp_id emp_name emp_age salary\n",
       "1 1      Roy      20      1000  \n",
       "2 2      Rox      30      2000  \n",
       "3 3      Roz      40      3000  \n",
       "4 4      Roa      50      4000  \n",
       "5 5      Rob      60      5000  "
      ]
     },
     "metadata": {},
     "output_type": "display_data"
    }
   ],
   "source": [
    "emp.data"
   ]
  },
  {
   "cell_type": "code",
   "execution_count": 20,
   "metadata": {},
   "outputs": [
    {
     "data": {
      "text/html": [
       "<table>\n",
       "<caption>A data.frame: 2 × 4</caption>\n",
       "<thead>\n",
       "\t<tr><th></th><th scope=col>emp_id</th><th scope=col>emp_name</th><th scope=col>emp_age</th><th scope=col>salary</th></tr>\n",
       "\t<tr><th></th><th scope=col>&lt;int&gt;</th><th scope=col>&lt;fct&gt;</th><th scope=col>&lt;dbl&gt;</th><th scope=col>&lt;dbl&gt;</th></tr>\n",
       "</thead>\n",
       "<tbody>\n",
       "\t<tr><th scope=row>1</th><td>1</td><td>Roy</td><td>20</td><td>1000</td></tr>\n",
       "\t<tr><th scope=row>2</th><td>2</td><td>Rox</td><td>30</td><td>2000</td></tr>\n",
       "</tbody>\n",
       "</table>\n"
      ],
      "text/latex": [
       "A data.frame: 2 × 4\n",
       "\\begin{tabular}{r|llll}\n",
       "  & emp\\_id & emp\\_name & emp\\_age & salary\\\\\n",
       "  & <int> & <fct> & <dbl> & <dbl>\\\\\n",
       "\\hline\n",
       "\t1 & 1 & Roy & 20 & 1000\\\\\n",
       "\t2 & 2 & Rox & 30 & 2000\\\\\n",
       "\\end{tabular}\n"
      ],
      "text/markdown": [
       "\n",
       "A data.frame: 2 × 4\n",
       "\n",
       "| <!--/--> | emp_id &lt;int&gt; | emp_name &lt;fct&gt; | emp_age &lt;dbl&gt; | salary &lt;dbl&gt; |\n",
       "|---|---|---|---|---|\n",
       "| 1 | 1 | Roy | 20 | 1000 |\n",
       "| 2 | 2 | Rox | 30 | 2000 |\n",
       "\n"
      ],
      "text/plain": [
       "  emp_id emp_name emp_age salary\n",
       "1 1      Roy      20      1000  \n",
       "2 2      Rox      30      2000  "
      ]
     },
     "metadata": {},
     "output_type": "display_data"
    }
   ],
   "source": [
    "emp.data[1:2, ]"
   ]
  },
  {
   "cell_type": "code",
   "execution_count": 21,
   "metadata": {},
   "outputs": [
    {
     "data": {
      "text/html": [
       "<table>\n",
       "<caption>A data.frame: 2 × 2</caption>\n",
       "<thead>\n",
       "\t<tr><th></th><th scope=col>emp_name</th><th scope=col>emp_age</th></tr>\n",
       "\t<tr><th></th><th scope=col>&lt;fct&gt;</th><th scope=col>&lt;dbl&gt;</th></tr>\n",
       "</thead>\n",
       "<tbody>\n",
       "\t<tr><th scope=row>1</th><td>Roy</td><td>20</td></tr>\n",
       "\t<tr><th scope=row>2</th><td>Rox</td><td>30</td></tr>\n",
       "</tbody>\n",
       "</table>\n"
      ],
      "text/latex": [
       "A data.frame: 2 × 2\n",
       "\\begin{tabular}{r|ll}\n",
       "  & emp\\_name & emp\\_age\\\\\n",
       "  & <fct> & <dbl>\\\\\n",
       "\\hline\n",
       "\t1 & Roy & 20\\\\\n",
       "\t2 & Rox & 30\\\\\n",
       "\\end{tabular}\n"
      ],
      "text/markdown": [
       "\n",
       "A data.frame: 2 × 2\n",
       "\n",
       "| <!--/--> | emp_name &lt;fct&gt; | emp_age &lt;dbl&gt; |\n",
       "|---|---|---|\n",
       "| 1 | Roy | 20 |\n",
       "| 2 | Rox | 30 |\n",
       "\n"
      ],
      "text/plain": [
       "  emp_name emp_age\n",
       "1 Roy      20     \n",
       "2 Rox      30     "
      ]
     },
     "metadata": {},
     "output_type": "display_data"
    }
   ],
   "source": [
    "emp.data[1:2, 2:3]"
   ]
  },
  {
   "cell_type": "code",
   "execution_count": 1,
   "metadata": {},
   "outputs": [],
   "source": [
    "#read csv\n",
    "\n",
    "data_csv = read.csv(\"use any csv here\")"
   ]
  },
  {
   "cell_type": "code",
   "execution_count": 23,
   "metadata": {},
   "outputs": [
    {
     "data": {
      "text/html": [
       "<table>\n",
       "<caption>A data.frame: 69769 × 6</caption>\n",
       "<thead>\n",
       "\t<tr><th scope=col>Date</th><th scope=col>Time</th><th scope=col>Open</th><th scope=col>High</th><th scope=col>Low</th><th scope=col>Close</th></tr>\n",
       "\t<tr><th scope=col>&lt;int&gt;</th><th scope=col>&lt;int&gt;</th><th scope=col>&lt;dbl&gt;</th><th scope=col>&lt;dbl&gt;</th><th scope=col>&lt;dbl&gt;</th><th scope=col>&lt;dbl&gt;</th></tr>\n",
       "</thead>\n",
       "<tbody>\n",
       "\t<tr><td>20200101</td><td> 100</td><td>1.12172</td><td>1.12174</td><td>1.12150</td><td>1.12158</td></tr>\n",
       "\t<tr><td>20200101</td><td> 200</td><td>1.12158</td><td>1.12161</td><td>1.12130</td><td>1.12148</td></tr>\n",
       "\t<tr><td>20200101</td><td> 300</td><td>1.12148</td><td>1.12150</td><td>1.12130</td><td>1.12145</td></tr>\n",
       "\t<tr><td>20200101</td><td> 400</td><td>1.12146</td><td>1.12153</td><td>1.12140</td><td>1.12151</td></tr>\n",
       "\t<tr><td>20200101</td><td> 500</td><td>1.12153</td><td>1.12153</td><td>1.12140</td><td>1.12151</td></tr>\n",
       "\t<tr><td>20200101</td><td> 600</td><td>1.12151</td><td>1.12153</td><td>1.12140</td><td>1.12149</td></tr>\n",
       "\t<tr><td>20200101</td><td> 700</td><td>1.12152</td><td>1.12152</td><td>1.12130</td><td>1.12147</td></tr>\n",
       "\t<tr><td>20200101</td><td> 800</td><td>1.12147</td><td>1.12153</td><td>1.12130</td><td>1.12151</td></tr>\n",
       "\t<tr><td>20200101</td><td> 900</td><td>1.12151</td><td>1.12151</td><td>1.12130</td><td>1.12145</td></tr>\n",
       "\t<tr><td>20200101</td><td>1000</td><td>1.12146</td><td>1.12147</td><td>1.12120</td><td>1.12140</td></tr>\n",
       "\t<tr><td>20200101</td><td>1100</td><td>1.12139</td><td>1.12146</td><td>1.12120</td><td>1.12141</td></tr>\n",
       "\t<tr><td>20200101</td><td>1200</td><td>1.12141</td><td>1.12147</td><td>1.12120</td><td>1.12145</td></tr>\n",
       "\t<tr><td>20200101</td><td>1300</td><td>1.12145</td><td>1.12148</td><td>1.12130</td><td>1.12146</td></tr>\n",
       "\t<tr><td>20200101</td><td>1400</td><td>1.12146</td><td>1.12147</td><td>1.12130</td><td>1.12146</td></tr>\n",
       "\t<tr><td>20200101</td><td>1500</td><td>1.12145</td><td>1.12150</td><td>1.12130</td><td>1.12147</td></tr>\n",
       "\t<tr><td>20200101</td><td>1600</td><td>1.12146</td><td>1.12149</td><td>1.12130</td><td>1.12140</td></tr>\n",
       "\t<tr><td>20200101</td><td>1700</td><td>1.12142</td><td>1.12144</td><td>1.12130</td><td>1.12140</td></tr>\n",
       "\t<tr><td>20200101</td><td>1800</td><td>1.12143</td><td>1.12150</td><td>1.12130</td><td>1.12150</td></tr>\n",
       "\t<tr><td>20200101</td><td>1900</td><td>1.12143</td><td>1.12150</td><td>1.12137</td><td>1.12147</td></tr>\n",
       "\t<tr><td>20200101</td><td>2000</td><td>1.12147</td><td>1.12147</td><td>1.12130</td><td>1.12142</td></tr>\n",
       "\t<tr><td>20200101</td><td>2100</td><td>1.12142</td><td>1.12143</td><td>1.12120</td><td>1.12139</td></tr>\n",
       "\t<tr><td>20200101</td><td>2200</td><td>1.12140</td><td>1.12141</td><td>1.12120</td><td>1.12139</td></tr>\n",
       "\t<tr><td>20200101</td><td>2300</td><td>1.12138</td><td>1.12141</td><td>1.12120</td><td>1.12138</td></tr>\n",
       "\t<tr><td>20200101</td><td>2400</td><td>1.12138</td><td>1.12141</td><td>1.12131</td><td>1.12140</td></tr>\n",
       "\t<tr><td>20200101</td><td>2500</td><td>1.12136</td><td>1.12141</td><td>1.12120</td><td>1.12137</td></tr>\n",
       "\t<tr><td>20200101</td><td>2600</td><td>1.12138</td><td>1.12141</td><td>1.12130</td><td>1.12137</td></tr>\n",
       "\t<tr><td>20200101</td><td>2700</td><td>1.12140</td><td>1.12147</td><td>1.12120</td><td>1.12145</td></tr>\n",
       "\t<tr><td>20200101</td><td>2800</td><td>1.12146</td><td>1.12150</td><td>1.12120</td><td>1.12149</td></tr>\n",
       "\t<tr><td>20200101</td><td>2900</td><td>1.12148</td><td>1.12150</td><td>1.12120</td><td>1.12142</td></tr>\n",
       "\t<tr><td>20200101</td><td>3000</td><td>1.12141</td><td>1.12144</td><td>1.12130</td><td>1.12143</td></tr>\n",
       "\t<tr><td>⋮</td><td>⋮</td><td>⋮</td><td>⋮</td><td>⋮</td><td>⋮</td></tr>\n",
       "\t<tr><td>20200307</td><td> 3200</td><td>1.13040</td><td>1.13041</td><td>1.13020</td><td>1.13041</td></tr>\n",
       "\t<tr><td>20200307</td><td> 3300</td><td>1.13026</td><td>1.13050</td><td>1.13026</td><td>1.13039</td></tr>\n",
       "\t<tr><td>20200307</td><td> 3400</td><td>1.13038</td><td>1.13045</td><td>1.13020</td><td>1.13036</td></tr>\n",
       "\t<tr><td>20200307</td><td> 3500</td><td>1.13025</td><td>1.13053</td><td>1.13024</td><td>1.13045</td></tr>\n",
       "\t<tr><td>20200307</td><td> 3600</td><td>1.13035</td><td>1.13050</td><td>1.13020</td><td>1.13032</td></tr>\n",
       "\t<tr><td>20200307</td><td> 3700</td><td>1.13024</td><td>1.13050</td><td>1.13021</td><td>1.13041</td></tr>\n",
       "\t<tr><td>20200307</td><td> 3800</td><td>1.13038</td><td>1.13042</td><td>1.13020</td><td>1.13040</td></tr>\n",
       "\t<tr><td>20200307</td><td> 3900</td><td>1.13032</td><td>1.13041</td><td>1.12991</td><td>1.13004</td></tr>\n",
       "\t<tr><td>20200307</td><td> 4000</td><td>1.13004</td><td>1.13010</td><td>1.12970</td><td>1.12988</td></tr>\n",
       "\t<tr><td>20200307</td><td> 4100</td><td>1.12988</td><td>1.12996</td><td>1.12960</td><td>1.12974</td></tr>\n",
       "\t<tr><td>20200307</td><td> 4200</td><td>1.12974</td><td>1.12980</td><td>1.12956</td><td>1.12974</td></tr>\n",
       "\t<tr><td>20200307</td><td> 4300</td><td>1.12966</td><td>1.12985</td><td>1.12950</td><td>1.12972</td></tr>\n",
       "\t<tr><td>20200307</td><td> 4400</td><td>1.12967</td><td>1.12995</td><td>1.12951</td><td>1.12966</td></tr>\n",
       "\t<tr><td>20200307</td><td> 4500</td><td>1.12951</td><td>1.12969</td><td>1.12921</td><td>1.12927</td></tr>\n",
       "\t<tr><td>20200307</td><td> 4600</td><td>1.12935</td><td>1.12948</td><td>1.12916</td><td>1.12938</td></tr>\n",
       "\t<tr><td>20200307</td><td> 4700</td><td>1.12938</td><td>1.12943</td><td>1.12911</td><td>1.12937</td></tr>\n",
       "\t<tr><td>20200307</td><td> 4800</td><td>1.12937</td><td>1.12938</td><td>1.12880</td><td>1.12899</td></tr>\n",
       "\t<tr><td>20200307</td><td> 4900</td><td>1.12899</td><td>1.12954</td><td>1.12871</td><td>1.12897</td></tr>\n",
       "\t<tr><td>20200307</td><td> 5000</td><td>1.12896</td><td>1.12911</td><td>1.12871</td><td>1.12898</td></tr>\n",
       "\t<tr><td>20200307</td><td> 5100</td><td>1.12898</td><td>1.12911</td><td>1.12871</td><td>1.12910</td></tr>\n",
       "\t<tr><td>20200307</td><td> 5200</td><td>1.12910</td><td>1.12913</td><td>1.12876</td><td>1.12905</td></tr>\n",
       "\t<tr><td>20200307</td><td> 5300</td><td>1.12904</td><td>1.12915</td><td>1.12886</td><td>1.12905</td></tr>\n",
       "\t<tr><td>20200307</td><td> 5400</td><td>1.12897</td><td>1.12914</td><td>1.12890</td><td>1.12891</td></tr>\n",
       "\t<tr><td>20200307</td><td> 5500</td><td>1.12906</td><td>1.12915</td><td>1.12886</td><td>1.12901</td></tr>\n",
       "\t<tr><td>20200307</td><td> 5600</td><td>1.12902</td><td>1.12924</td><td>1.12880</td><td>1.12891</td></tr>\n",
       "\t<tr><td>20200307</td><td> 5700</td><td>1.12904</td><td>1.12925</td><td>1.12866</td><td>1.12889</td></tr>\n",
       "\t<tr><td>20200307</td><td> 5800</td><td>1.12886</td><td>1.12902</td><td>1.12870</td><td>1.12898</td></tr>\n",
       "\t<tr><td>20200307</td><td> 5900</td><td>1.12889</td><td>1.12904</td><td>1.12854</td><td>1.12869</td></tr>\n",
       "\t<tr><td>20200307</td><td>10000</td><td>1.12876</td><td>1.12895</td><td>1.12809</td><td>1.12833</td></tr>\n",
       "\t<tr><td>20200307</td><td>10100</td><td>1.12833</td><td>1.12850</td><td>1.12833</td><td>1.12850</td></tr>\n",
       "</tbody>\n",
       "</table>\n"
      ],
      "text/latex": [
       "A data.frame: 69769 × 6\n",
       "\\begin{tabular}{llllll}\n",
       " Date & Time & Open & High & Low & Close\\\\\n",
       " <int> & <int> & <dbl> & <dbl> & <dbl> & <dbl>\\\\\n",
       "\\hline\n",
       "\t 20200101 &  100 & 1.12172 & 1.12174 & 1.12150 & 1.12158\\\\\n",
       "\t 20200101 &  200 & 1.12158 & 1.12161 & 1.12130 & 1.12148\\\\\n",
       "\t 20200101 &  300 & 1.12148 & 1.12150 & 1.12130 & 1.12145\\\\\n",
       "\t 20200101 &  400 & 1.12146 & 1.12153 & 1.12140 & 1.12151\\\\\n",
       "\t 20200101 &  500 & 1.12153 & 1.12153 & 1.12140 & 1.12151\\\\\n",
       "\t 20200101 &  600 & 1.12151 & 1.12153 & 1.12140 & 1.12149\\\\\n",
       "\t 20200101 &  700 & 1.12152 & 1.12152 & 1.12130 & 1.12147\\\\\n",
       "\t 20200101 &  800 & 1.12147 & 1.12153 & 1.12130 & 1.12151\\\\\n",
       "\t 20200101 &  900 & 1.12151 & 1.12151 & 1.12130 & 1.12145\\\\\n",
       "\t 20200101 & 1000 & 1.12146 & 1.12147 & 1.12120 & 1.12140\\\\\n",
       "\t 20200101 & 1100 & 1.12139 & 1.12146 & 1.12120 & 1.12141\\\\\n",
       "\t 20200101 & 1200 & 1.12141 & 1.12147 & 1.12120 & 1.12145\\\\\n",
       "\t 20200101 & 1300 & 1.12145 & 1.12148 & 1.12130 & 1.12146\\\\\n",
       "\t 20200101 & 1400 & 1.12146 & 1.12147 & 1.12130 & 1.12146\\\\\n",
       "\t 20200101 & 1500 & 1.12145 & 1.12150 & 1.12130 & 1.12147\\\\\n",
       "\t 20200101 & 1600 & 1.12146 & 1.12149 & 1.12130 & 1.12140\\\\\n",
       "\t 20200101 & 1700 & 1.12142 & 1.12144 & 1.12130 & 1.12140\\\\\n",
       "\t 20200101 & 1800 & 1.12143 & 1.12150 & 1.12130 & 1.12150\\\\\n",
       "\t 20200101 & 1900 & 1.12143 & 1.12150 & 1.12137 & 1.12147\\\\\n",
       "\t 20200101 & 2000 & 1.12147 & 1.12147 & 1.12130 & 1.12142\\\\\n",
       "\t 20200101 & 2100 & 1.12142 & 1.12143 & 1.12120 & 1.12139\\\\\n",
       "\t 20200101 & 2200 & 1.12140 & 1.12141 & 1.12120 & 1.12139\\\\\n",
       "\t 20200101 & 2300 & 1.12138 & 1.12141 & 1.12120 & 1.12138\\\\\n",
       "\t 20200101 & 2400 & 1.12138 & 1.12141 & 1.12131 & 1.12140\\\\\n",
       "\t 20200101 & 2500 & 1.12136 & 1.12141 & 1.12120 & 1.12137\\\\\n",
       "\t 20200101 & 2600 & 1.12138 & 1.12141 & 1.12130 & 1.12137\\\\\n",
       "\t 20200101 & 2700 & 1.12140 & 1.12147 & 1.12120 & 1.12145\\\\\n",
       "\t 20200101 & 2800 & 1.12146 & 1.12150 & 1.12120 & 1.12149\\\\\n",
       "\t 20200101 & 2900 & 1.12148 & 1.12150 & 1.12120 & 1.12142\\\\\n",
       "\t 20200101 & 3000 & 1.12141 & 1.12144 & 1.12130 & 1.12143\\\\\n",
       "\t ⋮ & ⋮ & ⋮ & ⋮ & ⋮ & ⋮\\\\\n",
       "\t 20200307 &  3200 & 1.13040 & 1.13041 & 1.13020 & 1.13041\\\\\n",
       "\t 20200307 &  3300 & 1.13026 & 1.13050 & 1.13026 & 1.13039\\\\\n",
       "\t 20200307 &  3400 & 1.13038 & 1.13045 & 1.13020 & 1.13036\\\\\n",
       "\t 20200307 &  3500 & 1.13025 & 1.13053 & 1.13024 & 1.13045\\\\\n",
       "\t 20200307 &  3600 & 1.13035 & 1.13050 & 1.13020 & 1.13032\\\\\n",
       "\t 20200307 &  3700 & 1.13024 & 1.13050 & 1.13021 & 1.13041\\\\\n",
       "\t 20200307 &  3800 & 1.13038 & 1.13042 & 1.13020 & 1.13040\\\\\n",
       "\t 20200307 &  3900 & 1.13032 & 1.13041 & 1.12991 & 1.13004\\\\\n",
       "\t 20200307 &  4000 & 1.13004 & 1.13010 & 1.12970 & 1.12988\\\\\n",
       "\t 20200307 &  4100 & 1.12988 & 1.12996 & 1.12960 & 1.12974\\\\\n",
       "\t 20200307 &  4200 & 1.12974 & 1.12980 & 1.12956 & 1.12974\\\\\n",
       "\t 20200307 &  4300 & 1.12966 & 1.12985 & 1.12950 & 1.12972\\\\\n",
       "\t 20200307 &  4400 & 1.12967 & 1.12995 & 1.12951 & 1.12966\\\\\n",
       "\t 20200307 &  4500 & 1.12951 & 1.12969 & 1.12921 & 1.12927\\\\\n",
       "\t 20200307 &  4600 & 1.12935 & 1.12948 & 1.12916 & 1.12938\\\\\n",
       "\t 20200307 &  4700 & 1.12938 & 1.12943 & 1.12911 & 1.12937\\\\\n",
       "\t 20200307 &  4800 & 1.12937 & 1.12938 & 1.12880 & 1.12899\\\\\n",
       "\t 20200307 &  4900 & 1.12899 & 1.12954 & 1.12871 & 1.12897\\\\\n",
       "\t 20200307 &  5000 & 1.12896 & 1.12911 & 1.12871 & 1.12898\\\\\n",
       "\t 20200307 &  5100 & 1.12898 & 1.12911 & 1.12871 & 1.12910\\\\\n",
       "\t 20200307 &  5200 & 1.12910 & 1.12913 & 1.12876 & 1.12905\\\\\n",
       "\t 20200307 &  5300 & 1.12904 & 1.12915 & 1.12886 & 1.12905\\\\\n",
       "\t 20200307 &  5400 & 1.12897 & 1.12914 & 1.12890 & 1.12891\\\\\n",
       "\t 20200307 &  5500 & 1.12906 & 1.12915 & 1.12886 & 1.12901\\\\\n",
       "\t 20200307 &  5600 & 1.12902 & 1.12924 & 1.12880 & 1.12891\\\\\n",
       "\t 20200307 &  5700 & 1.12904 & 1.12925 & 1.12866 & 1.12889\\\\\n",
       "\t 20200307 &  5800 & 1.12886 & 1.12902 & 1.12870 & 1.12898\\\\\n",
       "\t 20200307 &  5900 & 1.12889 & 1.12904 & 1.12854 & 1.12869\\\\\n",
       "\t 20200307 & 10000 & 1.12876 & 1.12895 & 1.12809 & 1.12833\\\\\n",
       "\t 20200307 & 10100 & 1.12833 & 1.12850 & 1.12833 & 1.12850\\\\\n",
       "\\end{tabular}\n"
      ],
      "text/markdown": [
       "\n",
       "A data.frame: 69769 × 6\n",
       "\n",
       "| Date &lt;int&gt; | Time &lt;int&gt; | Open &lt;dbl&gt; | High &lt;dbl&gt; | Low &lt;dbl&gt; | Close &lt;dbl&gt; |\n",
       "|---|---|---|---|---|---|\n",
       "| 20200101 |  100 | 1.12172 | 1.12174 | 1.12150 | 1.12158 |\n",
       "| 20200101 |  200 | 1.12158 | 1.12161 | 1.12130 | 1.12148 |\n",
       "| 20200101 |  300 | 1.12148 | 1.12150 | 1.12130 | 1.12145 |\n",
       "| 20200101 |  400 | 1.12146 | 1.12153 | 1.12140 | 1.12151 |\n",
       "| 20200101 |  500 | 1.12153 | 1.12153 | 1.12140 | 1.12151 |\n",
       "| 20200101 |  600 | 1.12151 | 1.12153 | 1.12140 | 1.12149 |\n",
       "| 20200101 |  700 | 1.12152 | 1.12152 | 1.12130 | 1.12147 |\n",
       "| 20200101 |  800 | 1.12147 | 1.12153 | 1.12130 | 1.12151 |\n",
       "| 20200101 |  900 | 1.12151 | 1.12151 | 1.12130 | 1.12145 |\n",
       "| 20200101 | 1000 | 1.12146 | 1.12147 | 1.12120 | 1.12140 |\n",
       "| 20200101 | 1100 | 1.12139 | 1.12146 | 1.12120 | 1.12141 |\n",
       "| 20200101 | 1200 | 1.12141 | 1.12147 | 1.12120 | 1.12145 |\n",
       "| 20200101 | 1300 | 1.12145 | 1.12148 | 1.12130 | 1.12146 |\n",
       "| 20200101 | 1400 | 1.12146 | 1.12147 | 1.12130 | 1.12146 |\n",
       "| 20200101 | 1500 | 1.12145 | 1.12150 | 1.12130 | 1.12147 |\n",
       "| 20200101 | 1600 | 1.12146 | 1.12149 | 1.12130 | 1.12140 |\n",
       "| 20200101 | 1700 | 1.12142 | 1.12144 | 1.12130 | 1.12140 |\n",
       "| 20200101 | 1800 | 1.12143 | 1.12150 | 1.12130 | 1.12150 |\n",
       "| 20200101 | 1900 | 1.12143 | 1.12150 | 1.12137 | 1.12147 |\n",
       "| 20200101 | 2000 | 1.12147 | 1.12147 | 1.12130 | 1.12142 |\n",
       "| 20200101 | 2100 | 1.12142 | 1.12143 | 1.12120 | 1.12139 |\n",
       "| 20200101 | 2200 | 1.12140 | 1.12141 | 1.12120 | 1.12139 |\n",
       "| 20200101 | 2300 | 1.12138 | 1.12141 | 1.12120 | 1.12138 |\n",
       "| 20200101 | 2400 | 1.12138 | 1.12141 | 1.12131 | 1.12140 |\n",
       "| 20200101 | 2500 | 1.12136 | 1.12141 | 1.12120 | 1.12137 |\n",
       "| 20200101 | 2600 | 1.12138 | 1.12141 | 1.12130 | 1.12137 |\n",
       "| 20200101 | 2700 | 1.12140 | 1.12147 | 1.12120 | 1.12145 |\n",
       "| 20200101 | 2800 | 1.12146 | 1.12150 | 1.12120 | 1.12149 |\n",
       "| 20200101 | 2900 | 1.12148 | 1.12150 | 1.12120 | 1.12142 |\n",
       "| 20200101 | 3000 | 1.12141 | 1.12144 | 1.12130 | 1.12143 |\n",
       "| ⋮ | ⋮ | ⋮ | ⋮ | ⋮ | ⋮ |\n",
       "| 20200307 |  3200 | 1.13040 | 1.13041 | 1.13020 | 1.13041 |\n",
       "| 20200307 |  3300 | 1.13026 | 1.13050 | 1.13026 | 1.13039 |\n",
       "| 20200307 |  3400 | 1.13038 | 1.13045 | 1.13020 | 1.13036 |\n",
       "| 20200307 |  3500 | 1.13025 | 1.13053 | 1.13024 | 1.13045 |\n",
       "| 20200307 |  3600 | 1.13035 | 1.13050 | 1.13020 | 1.13032 |\n",
       "| 20200307 |  3700 | 1.13024 | 1.13050 | 1.13021 | 1.13041 |\n",
       "| 20200307 |  3800 | 1.13038 | 1.13042 | 1.13020 | 1.13040 |\n",
       "| 20200307 |  3900 | 1.13032 | 1.13041 | 1.12991 | 1.13004 |\n",
       "| 20200307 |  4000 | 1.13004 | 1.13010 | 1.12970 | 1.12988 |\n",
       "| 20200307 |  4100 | 1.12988 | 1.12996 | 1.12960 | 1.12974 |\n",
       "| 20200307 |  4200 | 1.12974 | 1.12980 | 1.12956 | 1.12974 |\n",
       "| 20200307 |  4300 | 1.12966 | 1.12985 | 1.12950 | 1.12972 |\n",
       "| 20200307 |  4400 | 1.12967 | 1.12995 | 1.12951 | 1.12966 |\n",
       "| 20200307 |  4500 | 1.12951 | 1.12969 | 1.12921 | 1.12927 |\n",
       "| 20200307 |  4600 | 1.12935 | 1.12948 | 1.12916 | 1.12938 |\n",
       "| 20200307 |  4700 | 1.12938 | 1.12943 | 1.12911 | 1.12937 |\n",
       "| 20200307 |  4800 | 1.12937 | 1.12938 | 1.12880 | 1.12899 |\n",
       "| 20200307 |  4900 | 1.12899 | 1.12954 | 1.12871 | 1.12897 |\n",
       "| 20200307 |  5000 | 1.12896 | 1.12911 | 1.12871 | 1.12898 |\n",
       "| 20200307 |  5100 | 1.12898 | 1.12911 | 1.12871 | 1.12910 |\n",
       "| 20200307 |  5200 | 1.12910 | 1.12913 | 1.12876 | 1.12905 |\n",
       "| 20200307 |  5300 | 1.12904 | 1.12915 | 1.12886 | 1.12905 |\n",
       "| 20200307 |  5400 | 1.12897 | 1.12914 | 1.12890 | 1.12891 |\n",
       "| 20200307 |  5500 | 1.12906 | 1.12915 | 1.12886 | 1.12901 |\n",
       "| 20200307 |  5600 | 1.12902 | 1.12924 | 1.12880 | 1.12891 |\n",
       "| 20200307 |  5700 | 1.12904 | 1.12925 | 1.12866 | 1.12889 |\n",
       "| 20200307 |  5800 | 1.12886 | 1.12902 | 1.12870 | 1.12898 |\n",
       "| 20200307 |  5900 | 1.12889 | 1.12904 | 1.12854 | 1.12869 |\n",
       "| 20200307 | 10000 | 1.12876 | 1.12895 | 1.12809 | 1.12833 |\n",
       "| 20200307 | 10100 | 1.12833 | 1.12850 | 1.12833 | 1.12850 |\n",
       "\n"
      ],
      "text/plain": [
       "      Date     Time  Open    High    Low     Close  \n",
       "1     20200101  100  1.12172 1.12174 1.12150 1.12158\n",
       "2     20200101  200  1.12158 1.12161 1.12130 1.12148\n",
       "3     20200101  300  1.12148 1.12150 1.12130 1.12145\n",
       "4     20200101  400  1.12146 1.12153 1.12140 1.12151\n",
       "5     20200101  500  1.12153 1.12153 1.12140 1.12151\n",
       "6     20200101  600  1.12151 1.12153 1.12140 1.12149\n",
       "7     20200101  700  1.12152 1.12152 1.12130 1.12147\n",
       "8     20200101  800  1.12147 1.12153 1.12130 1.12151\n",
       "9     20200101  900  1.12151 1.12151 1.12130 1.12145\n",
       "10    20200101 1000  1.12146 1.12147 1.12120 1.12140\n",
       "11    20200101 1100  1.12139 1.12146 1.12120 1.12141\n",
       "12    20200101 1200  1.12141 1.12147 1.12120 1.12145\n",
       "13    20200101 1300  1.12145 1.12148 1.12130 1.12146\n",
       "14    20200101 1400  1.12146 1.12147 1.12130 1.12146\n",
       "15    20200101 1500  1.12145 1.12150 1.12130 1.12147\n",
       "16    20200101 1600  1.12146 1.12149 1.12130 1.12140\n",
       "17    20200101 1700  1.12142 1.12144 1.12130 1.12140\n",
       "18    20200101 1800  1.12143 1.12150 1.12130 1.12150\n",
       "19    20200101 1900  1.12143 1.12150 1.12137 1.12147\n",
       "20    20200101 2000  1.12147 1.12147 1.12130 1.12142\n",
       "21    20200101 2100  1.12142 1.12143 1.12120 1.12139\n",
       "22    20200101 2200  1.12140 1.12141 1.12120 1.12139\n",
       "23    20200101 2300  1.12138 1.12141 1.12120 1.12138\n",
       "24    20200101 2400  1.12138 1.12141 1.12131 1.12140\n",
       "25    20200101 2500  1.12136 1.12141 1.12120 1.12137\n",
       "26    20200101 2600  1.12138 1.12141 1.12130 1.12137\n",
       "27    20200101 2700  1.12140 1.12147 1.12120 1.12145\n",
       "28    20200101 2800  1.12146 1.12150 1.12120 1.12149\n",
       "29    20200101 2900  1.12148 1.12150 1.12120 1.12142\n",
       "30    20200101 3000  1.12141 1.12144 1.12130 1.12143\n",
       "<U+22EE>     <U+22EE> <U+22EE> <U+22EE> <U+22EE> <U+22EE> <U+22EE>\n",
       "69740 20200307  3200 1.13040 1.13041 1.13020 1.13041\n",
       "69741 20200307  3300 1.13026 1.13050 1.13026 1.13039\n",
       "69742 20200307  3400 1.13038 1.13045 1.13020 1.13036\n",
       "69743 20200307  3500 1.13025 1.13053 1.13024 1.13045\n",
       "69744 20200307  3600 1.13035 1.13050 1.13020 1.13032\n",
       "69745 20200307  3700 1.13024 1.13050 1.13021 1.13041\n",
       "69746 20200307  3800 1.13038 1.13042 1.13020 1.13040\n",
       "69747 20200307  3900 1.13032 1.13041 1.12991 1.13004\n",
       "69748 20200307  4000 1.13004 1.13010 1.12970 1.12988\n",
       "69749 20200307  4100 1.12988 1.12996 1.12960 1.12974\n",
       "69750 20200307  4200 1.12974 1.12980 1.12956 1.12974\n",
       "69751 20200307  4300 1.12966 1.12985 1.12950 1.12972\n",
       "69752 20200307  4400 1.12967 1.12995 1.12951 1.12966\n",
       "69753 20200307  4500 1.12951 1.12969 1.12921 1.12927\n",
       "69754 20200307  4600 1.12935 1.12948 1.12916 1.12938\n",
       "69755 20200307  4700 1.12938 1.12943 1.12911 1.12937\n",
       "69756 20200307  4800 1.12937 1.12938 1.12880 1.12899\n",
       "69757 20200307  4900 1.12899 1.12954 1.12871 1.12897\n",
       "69758 20200307  5000 1.12896 1.12911 1.12871 1.12898\n",
       "69759 20200307  5100 1.12898 1.12911 1.12871 1.12910\n",
       "69760 20200307  5200 1.12910 1.12913 1.12876 1.12905\n",
       "69761 20200307  5300 1.12904 1.12915 1.12886 1.12905\n",
       "69762 20200307  5400 1.12897 1.12914 1.12890 1.12891\n",
       "69763 20200307  5500 1.12906 1.12915 1.12886 1.12901\n",
       "69764 20200307  5600 1.12902 1.12924 1.12880 1.12891\n",
       "69765 20200307  5700 1.12904 1.12925 1.12866 1.12889\n",
       "69766 20200307  5800 1.12886 1.12902 1.12870 1.12898\n",
       "69767 20200307  5900 1.12889 1.12904 1.12854 1.12869\n",
       "69768 20200307 10000 1.12876 1.12895 1.12809 1.12833\n",
       "69769 20200307 10100 1.12833 1.12850 1.12833 1.12850"
      ]
     },
     "metadata": {},
     "output_type": "display_data"
    }
   ],
   "source": [
    "data_csv"
   ]
  },
  {
   "cell_type": "code",
   "execution_count": 25,
   "metadata": {},
   "outputs": [
    {
     "data": {
      "text/html": [
       "<table>\n",
       "<caption>A data.frame: 2 × 6</caption>\n",
       "<thead>\n",
       "\t<tr><th></th><th scope=col>Date</th><th scope=col>Time</th><th scope=col>Open</th><th scope=col>High</th><th scope=col>Low</th><th scope=col>Close</th></tr>\n",
       "\t<tr><th></th><th scope=col>&lt;int&gt;</th><th scope=col>&lt;int&gt;</th><th scope=col>&lt;dbl&gt;</th><th scope=col>&lt;dbl&gt;</th><th scope=col>&lt;dbl&gt;</th><th scope=col>&lt;dbl&gt;</th></tr>\n",
       "</thead>\n",
       "<tbody>\n",
       "\t<tr><th scope=row>1</th><td>20200101</td><td>100</td><td>1.12172</td><td>1.12174</td><td>1.1215</td><td>1.12158</td></tr>\n",
       "\t<tr><th scope=row>2</th><td>20200101</td><td>200</td><td>1.12158</td><td>1.12161</td><td>1.1213</td><td>1.12148</td></tr>\n",
       "</tbody>\n",
       "</table>\n"
      ],
      "text/latex": [
       "A data.frame: 2 × 6\n",
       "\\begin{tabular}{r|llllll}\n",
       "  & Date & Time & Open & High & Low & Close\\\\\n",
       "  & <int> & <int> & <dbl> & <dbl> & <dbl> & <dbl>\\\\\n",
       "\\hline\n",
       "\t1 & 20200101 & 100 & 1.12172 & 1.12174 & 1.1215 & 1.12158\\\\\n",
       "\t2 & 20200101 & 200 & 1.12158 & 1.12161 & 1.1213 & 1.12148\\\\\n",
       "\\end{tabular}\n"
      ],
      "text/markdown": [
       "\n",
       "A data.frame: 2 × 6\n",
       "\n",
       "| <!--/--> | Date &lt;int&gt; | Time &lt;int&gt; | Open &lt;dbl&gt; | High &lt;dbl&gt; | Low &lt;dbl&gt; | Close &lt;dbl&gt; |\n",
       "|---|---|---|---|---|---|---|\n",
       "| 1 | 20200101 | 100 | 1.12172 | 1.12174 | 1.1215 | 1.12158 |\n",
       "| 2 | 20200101 | 200 | 1.12158 | 1.12161 | 1.1213 | 1.12148 |\n",
       "\n"
      ],
      "text/plain": [
       "  Date     Time Open    High    Low    Close  \n",
       "1 20200101 100  1.12172 1.12174 1.1215 1.12158\n",
       "2 20200101 200  1.12158 1.12161 1.1213 1.12148"
      ]
     },
     "metadata": {},
     "output_type": "display_data"
    }
   ],
   "source": [
    "data_csv[1:2,]"
   ]
  },
  {
   "cell_type": "code",
   "execution_count": 27,
   "metadata": {},
   "outputs": [
    {
     "data": {
      "text/html": [
       "<table>\n",
       "<caption>A data.frame: 69769 × 2</caption>\n",
       "<thead>\n",
       "\t<tr><th scope=col>Time</th><th scope=col>Open</th></tr>\n",
       "\t<tr><th scope=col>&lt;int&gt;</th><th scope=col>&lt;dbl&gt;</th></tr>\n",
       "</thead>\n",
       "<tbody>\n",
       "\t<tr><td> 100</td><td>1.12172</td></tr>\n",
       "\t<tr><td> 200</td><td>1.12158</td></tr>\n",
       "\t<tr><td> 300</td><td>1.12148</td></tr>\n",
       "\t<tr><td> 400</td><td>1.12146</td></tr>\n",
       "\t<tr><td> 500</td><td>1.12153</td></tr>\n",
       "\t<tr><td> 600</td><td>1.12151</td></tr>\n",
       "\t<tr><td> 700</td><td>1.12152</td></tr>\n",
       "\t<tr><td> 800</td><td>1.12147</td></tr>\n",
       "\t<tr><td> 900</td><td>1.12151</td></tr>\n",
       "\t<tr><td>1000</td><td>1.12146</td></tr>\n",
       "\t<tr><td>1100</td><td>1.12139</td></tr>\n",
       "\t<tr><td>1200</td><td>1.12141</td></tr>\n",
       "\t<tr><td>1300</td><td>1.12145</td></tr>\n",
       "\t<tr><td>1400</td><td>1.12146</td></tr>\n",
       "\t<tr><td>1500</td><td>1.12145</td></tr>\n",
       "\t<tr><td>1600</td><td>1.12146</td></tr>\n",
       "\t<tr><td>1700</td><td>1.12142</td></tr>\n",
       "\t<tr><td>1800</td><td>1.12143</td></tr>\n",
       "\t<tr><td>1900</td><td>1.12143</td></tr>\n",
       "\t<tr><td>2000</td><td>1.12147</td></tr>\n",
       "\t<tr><td>2100</td><td>1.12142</td></tr>\n",
       "\t<tr><td>2200</td><td>1.12140</td></tr>\n",
       "\t<tr><td>2300</td><td>1.12138</td></tr>\n",
       "\t<tr><td>2400</td><td>1.12138</td></tr>\n",
       "\t<tr><td>2500</td><td>1.12136</td></tr>\n",
       "\t<tr><td>2600</td><td>1.12138</td></tr>\n",
       "\t<tr><td>2700</td><td>1.12140</td></tr>\n",
       "\t<tr><td>2800</td><td>1.12146</td></tr>\n",
       "\t<tr><td>2900</td><td>1.12148</td></tr>\n",
       "\t<tr><td>3000</td><td>1.12141</td></tr>\n",
       "\t<tr><td>⋮</td><td>⋮</td></tr>\n",
       "\t<tr><td> 3200</td><td>1.13040</td></tr>\n",
       "\t<tr><td> 3300</td><td>1.13026</td></tr>\n",
       "\t<tr><td> 3400</td><td>1.13038</td></tr>\n",
       "\t<tr><td> 3500</td><td>1.13025</td></tr>\n",
       "\t<tr><td> 3600</td><td>1.13035</td></tr>\n",
       "\t<tr><td> 3700</td><td>1.13024</td></tr>\n",
       "\t<tr><td> 3800</td><td>1.13038</td></tr>\n",
       "\t<tr><td> 3900</td><td>1.13032</td></tr>\n",
       "\t<tr><td> 4000</td><td>1.13004</td></tr>\n",
       "\t<tr><td> 4100</td><td>1.12988</td></tr>\n",
       "\t<tr><td> 4200</td><td>1.12974</td></tr>\n",
       "\t<tr><td> 4300</td><td>1.12966</td></tr>\n",
       "\t<tr><td> 4400</td><td>1.12967</td></tr>\n",
       "\t<tr><td> 4500</td><td>1.12951</td></tr>\n",
       "\t<tr><td> 4600</td><td>1.12935</td></tr>\n",
       "\t<tr><td> 4700</td><td>1.12938</td></tr>\n",
       "\t<tr><td> 4800</td><td>1.12937</td></tr>\n",
       "\t<tr><td> 4900</td><td>1.12899</td></tr>\n",
       "\t<tr><td> 5000</td><td>1.12896</td></tr>\n",
       "\t<tr><td> 5100</td><td>1.12898</td></tr>\n",
       "\t<tr><td> 5200</td><td>1.12910</td></tr>\n",
       "\t<tr><td> 5300</td><td>1.12904</td></tr>\n",
       "\t<tr><td> 5400</td><td>1.12897</td></tr>\n",
       "\t<tr><td> 5500</td><td>1.12906</td></tr>\n",
       "\t<tr><td> 5600</td><td>1.12902</td></tr>\n",
       "\t<tr><td> 5700</td><td>1.12904</td></tr>\n",
       "\t<tr><td> 5800</td><td>1.12886</td></tr>\n",
       "\t<tr><td> 5900</td><td>1.12889</td></tr>\n",
       "\t<tr><td>10000</td><td>1.12876</td></tr>\n",
       "\t<tr><td>10100</td><td>1.12833</td></tr>\n",
       "</tbody>\n",
       "</table>\n"
      ],
      "text/latex": [
       "A data.frame: 69769 × 2\n",
       "\\begin{tabular}{ll}\n",
       " Time & Open\\\\\n",
       " <int> & <dbl>\\\\\n",
       "\\hline\n",
       "\t  100 & 1.12172\\\\\n",
       "\t  200 & 1.12158\\\\\n",
       "\t  300 & 1.12148\\\\\n",
       "\t  400 & 1.12146\\\\\n",
       "\t  500 & 1.12153\\\\\n",
       "\t  600 & 1.12151\\\\\n",
       "\t  700 & 1.12152\\\\\n",
       "\t  800 & 1.12147\\\\\n",
       "\t  900 & 1.12151\\\\\n",
       "\t 1000 & 1.12146\\\\\n",
       "\t 1100 & 1.12139\\\\\n",
       "\t 1200 & 1.12141\\\\\n",
       "\t 1300 & 1.12145\\\\\n",
       "\t 1400 & 1.12146\\\\\n",
       "\t 1500 & 1.12145\\\\\n",
       "\t 1600 & 1.12146\\\\\n",
       "\t 1700 & 1.12142\\\\\n",
       "\t 1800 & 1.12143\\\\\n",
       "\t 1900 & 1.12143\\\\\n",
       "\t 2000 & 1.12147\\\\\n",
       "\t 2100 & 1.12142\\\\\n",
       "\t 2200 & 1.12140\\\\\n",
       "\t 2300 & 1.12138\\\\\n",
       "\t 2400 & 1.12138\\\\\n",
       "\t 2500 & 1.12136\\\\\n",
       "\t 2600 & 1.12138\\\\\n",
       "\t 2700 & 1.12140\\\\\n",
       "\t 2800 & 1.12146\\\\\n",
       "\t 2900 & 1.12148\\\\\n",
       "\t 3000 & 1.12141\\\\\n",
       "\t ⋮ & ⋮\\\\\n",
       "\t  3200 & 1.13040\\\\\n",
       "\t  3300 & 1.13026\\\\\n",
       "\t  3400 & 1.13038\\\\\n",
       "\t  3500 & 1.13025\\\\\n",
       "\t  3600 & 1.13035\\\\\n",
       "\t  3700 & 1.13024\\\\\n",
       "\t  3800 & 1.13038\\\\\n",
       "\t  3900 & 1.13032\\\\\n",
       "\t  4000 & 1.13004\\\\\n",
       "\t  4100 & 1.12988\\\\\n",
       "\t  4200 & 1.12974\\\\\n",
       "\t  4300 & 1.12966\\\\\n",
       "\t  4400 & 1.12967\\\\\n",
       "\t  4500 & 1.12951\\\\\n",
       "\t  4600 & 1.12935\\\\\n",
       "\t  4700 & 1.12938\\\\\n",
       "\t  4800 & 1.12937\\\\\n",
       "\t  4900 & 1.12899\\\\\n",
       "\t  5000 & 1.12896\\\\\n",
       "\t  5100 & 1.12898\\\\\n",
       "\t  5200 & 1.12910\\\\\n",
       "\t  5300 & 1.12904\\\\\n",
       "\t  5400 & 1.12897\\\\\n",
       "\t  5500 & 1.12906\\\\\n",
       "\t  5600 & 1.12902\\\\\n",
       "\t  5700 & 1.12904\\\\\n",
       "\t  5800 & 1.12886\\\\\n",
       "\t  5900 & 1.12889\\\\\n",
       "\t 10000 & 1.12876\\\\\n",
       "\t 10100 & 1.12833\\\\\n",
       "\\end{tabular}\n"
      ],
      "text/markdown": [
       "\n",
       "A data.frame: 69769 × 2\n",
       "\n",
       "| Time &lt;int&gt; | Open &lt;dbl&gt; |\n",
       "|---|---|\n",
       "|  100 | 1.12172 |\n",
       "|  200 | 1.12158 |\n",
       "|  300 | 1.12148 |\n",
       "|  400 | 1.12146 |\n",
       "|  500 | 1.12153 |\n",
       "|  600 | 1.12151 |\n",
       "|  700 | 1.12152 |\n",
       "|  800 | 1.12147 |\n",
       "|  900 | 1.12151 |\n",
       "| 1000 | 1.12146 |\n",
       "| 1100 | 1.12139 |\n",
       "| 1200 | 1.12141 |\n",
       "| 1300 | 1.12145 |\n",
       "| 1400 | 1.12146 |\n",
       "| 1500 | 1.12145 |\n",
       "| 1600 | 1.12146 |\n",
       "| 1700 | 1.12142 |\n",
       "| 1800 | 1.12143 |\n",
       "| 1900 | 1.12143 |\n",
       "| 2000 | 1.12147 |\n",
       "| 2100 | 1.12142 |\n",
       "| 2200 | 1.12140 |\n",
       "| 2300 | 1.12138 |\n",
       "| 2400 | 1.12138 |\n",
       "| 2500 | 1.12136 |\n",
       "| 2600 | 1.12138 |\n",
       "| 2700 | 1.12140 |\n",
       "| 2800 | 1.12146 |\n",
       "| 2900 | 1.12148 |\n",
       "| 3000 | 1.12141 |\n",
       "| ⋮ | ⋮ |\n",
       "|  3200 | 1.13040 |\n",
       "|  3300 | 1.13026 |\n",
       "|  3400 | 1.13038 |\n",
       "|  3500 | 1.13025 |\n",
       "|  3600 | 1.13035 |\n",
       "|  3700 | 1.13024 |\n",
       "|  3800 | 1.13038 |\n",
       "|  3900 | 1.13032 |\n",
       "|  4000 | 1.13004 |\n",
       "|  4100 | 1.12988 |\n",
       "|  4200 | 1.12974 |\n",
       "|  4300 | 1.12966 |\n",
       "|  4400 | 1.12967 |\n",
       "|  4500 | 1.12951 |\n",
       "|  4600 | 1.12935 |\n",
       "|  4700 | 1.12938 |\n",
       "|  4800 | 1.12937 |\n",
       "|  4900 | 1.12899 |\n",
       "|  5000 | 1.12896 |\n",
       "|  5100 | 1.12898 |\n",
       "|  5200 | 1.12910 |\n",
       "|  5300 | 1.12904 |\n",
       "|  5400 | 1.12897 |\n",
       "|  5500 | 1.12906 |\n",
       "|  5600 | 1.12902 |\n",
       "|  5700 | 1.12904 |\n",
       "|  5800 | 1.12886 |\n",
       "|  5900 | 1.12889 |\n",
       "| 10000 | 1.12876 |\n",
       "| 10100 | 1.12833 |\n",
       "\n"
      ],
      "text/plain": [
       "      Time  Open   \n",
       "1      100  1.12172\n",
       "2      200  1.12158\n",
       "3      300  1.12148\n",
       "4      400  1.12146\n",
       "5      500  1.12153\n",
       "6      600  1.12151\n",
       "7      700  1.12152\n",
       "8      800  1.12147\n",
       "9      900  1.12151\n",
       "10    1000  1.12146\n",
       "11    1100  1.12139\n",
       "12    1200  1.12141\n",
       "13    1300  1.12145\n",
       "14    1400  1.12146\n",
       "15    1500  1.12145\n",
       "16    1600  1.12146\n",
       "17    1700  1.12142\n",
       "18    1800  1.12143\n",
       "19    1900  1.12143\n",
       "20    2000  1.12147\n",
       "21    2100  1.12142\n",
       "22    2200  1.12140\n",
       "23    2300  1.12138\n",
       "24    2400  1.12138\n",
       "25    2500  1.12136\n",
       "26    2600  1.12138\n",
       "27    2700  1.12140\n",
       "28    2800  1.12146\n",
       "29    2900  1.12148\n",
       "30    3000  1.12141\n",
       "<U+22EE>     <U+22EE> <U+22EE>\n",
       "69740  3200 1.13040\n",
       "69741  3300 1.13026\n",
       "69742  3400 1.13038\n",
       "69743  3500 1.13025\n",
       "69744  3600 1.13035\n",
       "69745  3700 1.13024\n",
       "69746  3800 1.13038\n",
       "69747  3900 1.13032\n",
       "69748  4000 1.13004\n",
       "69749  4100 1.12988\n",
       "69750  4200 1.12974\n",
       "69751  4300 1.12966\n",
       "69752  4400 1.12967\n",
       "69753  4500 1.12951\n",
       "69754  4600 1.12935\n",
       "69755  4700 1.12938\n",
       "69756  4800 1.12937\n",
       "69757  4900 1.12899\n",
       "69758  5000 1.12896\n",
       "69759  5100 1.12898\n",
       "69760  5200 1.12910\n",
       "69761  5300 1.12904\n",
       "69762  5400 1.12897\n",
       "69763  5500 1.12906\n",
       "69764  5600 1.12902\n",
       "69765  5700 1.12904\n",
       "69766  5800 1.12886\n",
       "69767  5900 1.12889\n",
       "69768 10000 1.12876\n",
       "69769 10100 1.12833"
      ]
     },
     "metadata": {},
     "output_type": "display_data"
    }
   ],
   "source": [
    "data_csv[, 2:3]"
   ]
  },
  {
   "cell_type": "code",
   "execution_count": 29,
   "metadata": {},
   "outputs": [
    {
     "data": {
      "text/html": [
       "1.07799"
      ],
      "text/latex": [
       "1.07799"
      ],
      "text/markdown": [
       "1.07799"
      ],
      "text/plain": [
       "[1] 1.07799"
      ]
     },
     "metadata": {},
     "output_type": "display_data"
    }
   ],
   "source": [
    "min(data_csv[, 3])"
   ]
  },
  {
   "cell_type": "code",
   "execution_count": 30,
   "metadata": {},
   "outputs": [
    {
     "data": {
      "text/html": [
       "69769"
      ],
      "text/latex": [
       "69769"
      ],
      "text/markdown": [
       "69769"
      ],
      "text/plain": [
       "[1] 69769"
      ]
     },
     "metadata": {},
     "output_type": "display_data"
    }
   ],
   "source": [
    "nrow(data_csv)"
   ]
  },
  {
   "cell_type": "code",
   "execution_count": 31,
   "metadata": {},
   "outputs": [
    {
     "data": {
      "text/html": [
       "6"
      ],
      "text/latex": [
       "6"
      ],
      "text/markdown": [
       "6"
      ],
      "text/plain": [
       "[1] 6"
      ]
     },
     "metadata": {},
     "output_type": "display_data"
    }
   ],
   "source": [
    "ncol(data_csv)"
   ]
  },
  {
   "cell_type": "code",
   "execution_count": 3,
   "metadata": {},
   "outputs": [
    {
     "data": {
      "text/plain": [
       "      Date               Time             Open            High      \n",
       " Min.   :20200101   Min.   :     0   Min.   :1.078   Min.   :1.078  \n",
       " 1st Qu.:20200117   1st Qu.: 55400   1st Qu.:1.091   1st Qu.:1.091  \n",
       " Median :20200204   Median :120500   Median :1.104   Median :1.104  \n",
       " Mean   :20200179   Mean   :118721   Mean   :1.102   Mean   :1.103  \n",
       " 3rd Qu.:20200220   3rd Qu.:181700   3rd Qu.:1.113   3rd Qu.:1.113  \n",
       " Max.   :20200307   Max.   :235900   Max.   :1.135   Max.   :1.135  \n",
       "      Low            Close      \n",
       " Min.   :1.078   Min.   :1.078  \n",
       " 1st Qu.:1.091   1st Qu.:1.091  \n",
       " Median :1.104   Median :1.104  \n",
       " Mean   :1.102   Mean   :1.102  \n",
       " 3rd Qu.:1.113   3rd Qu.:1.113  \n",
       " Max.   :1.135   Max.   :1.135  "
      ]
     },
     "metadata": {},
     "output_type": "display_data"
    }
   ],
   "source": [
    "#Basic statistics with R\n",
    "summary(data_csv)"
   ]
  },
  {
   "cell_type": "code",
   "execution_count": 21,
   "metadata": {},
   "outputs": [
    {
     "data": {
      "image/png": "[encoded data removed]",
      "text/plain": [
       "Plot with title \"PIE CHART\""
      ]
     },
     "metadata": {},
     "output_type": "display_data"
    }
   ],
   "source": [
    "#plotting with r\n",
    "\n",
    "#pie chart\n",
    "\n",
    "d = c(45,65,75,85)\n",
    "g = c(\"India\", \"Australia\",\"USA\",\"Russia\")\n",
    "\n",
    "pie(d,g, main = \"PIE CHART\")"
   ]
  },
  {
   "cell_type": "code",
   "execution_count": 47,
   "metadata": {},
   "outputs": [
    {
     "data": {
      "image/png": "[encoded data removed]",
      "text/plain": [
       "Plot with title \"BAR PLOT\""
      ]
     },
     "metadata": {
      "image/png": {
       "height": 420,
       "width": 420
      },
      "text/plain": {
       "height": 420,
       "width": 420
      }
     },
     "output_type": "display_data"
    }
   ],
   "source": [
    "#Bar chart\n",
    "\n",
    "barplot(d, names.arg = g, xlab = \"Countries\", ylab = \"Population\", main = \"BAR PLOT\")"
   ]
  },
  {
   "cell_type": "code",
   "execution_count": 51,
   "metadata": {},
   "outputs": [
    {
     "data": {
      "image/png": "[encoded data removed]",
      "text/plain": [
       "Plot with title \"BOX PLOT\""
      ]
     },
     "metadata": {
      "image/png": {
       "height": 420,
       "width": 420
      },
      "text/plain": {
       "height": 420,
       "width": 420
      }
     },
     "output_type": "display_data"
    }
   ],
   "source": [
    "# Box-plots\n",
    "\n",
    "boxplot(ff, data = data_csv, main = \"BOX PLOT\")"
   ]
  },
  {
   "cell_type": "code",
   "execution_count": 56,
   "metadata": {},
   "outputs": [
    {
     "data": {
      "image/png": "[encoded data removed]",
      "text/plain": [
       "Plot with title \"HISTOGRAM\""
      ]
     },
     "metadata": {
      "image/png": {
       "height": 420,
       "width": 420
      },
      "text/plain": {
       "height": 420,
       "width": 420
      }
     },
     "output_type": "display_data"
    }
   ],
   "source": [
    "# histogram\n",
    "f = c(100,20,15,45)\n",
    "hist(f, main  = \"HISTOGRAM\", xlab = \"Countries\", ylab = \"Population\", col = 'red',breaks = 10)"
   ]
  },
  {
   "cell_type": "code",
   "execution_count": 61,
   "metadata": {},
   "outputs": [
    {
     "data": {
      "image/png": "[encoded data removed]",
      "text/plain": [
       "Plot with title \"LINE CHART\""
      ]
     },
     "metadata": {
      "image/png": {
       "height": 420,
       "width": 420
      },
      "text/plain": {
       "height": 420,
       "width": 420
      }
     },
     "output_type": "display_data"
    }
   ],
   "source": [
    "#line chart\n",
    "\n",
    "plot(d, type = \"o\",main = \"LINE CHART\", xlab = \"Countries\", ylab = \"Population\", col = 'blue')"
   ]
  },
  {
   "cell_type": "code",
   "execution_count": null,
   "metadata": {},
   "outputs": [],
   "source": []
  }
 ],
 "metadata": {
  "kernelspec": {
   "display_name": "R",
   "language": "R",
   "name": "ir"
  },
  "language_info": {
   "codemirror_mode": "r",
   "file_extension": ".r",
   "mimetype": "text/x-r-source",
   "name": "R",
   "pygments_lexer": "r",
   "version": "3.6.1"
  }
 },
 "nbformat": 4,
 "nbformat_minor": 4
}
